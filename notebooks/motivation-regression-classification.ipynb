{
 "cells": [
  {
   "cell_type": "markdown",
   "metadata": {},
   "source": [
    "# Motivation: regression"
   ]
  },
  {
   "cell_type": "code",
   "execution_count": 1,
   "metadata": {},
   "outputs": [],
   "source": [
    "%matplotlib inline\n",
    "import numpy as np\n",
    "import matplotlib\n",
    "import matplotlib.pyplot as plt\n",
    "matplotlib.style.use('seaborn')\n",
    "\n",
    "import warnings\n",
    "warnings.filterwarnings(\"ignore\")"
   ]
  },
  {
   "cell_type": "code",
   "execution_count": 2,
   "metadata": {},
   "outputs": [],
   "source": [
    "def generate_samples(x):\n",
    "    return x + np.random.normal(0.0, 2, size=len(x))"
   ]
  },
  {
   "cell_type": "code",
   "execution_count": 3,
   "metadata": {},
   "outputs": [],
   "source": [
    "xtrain = np.random.uniform(low=0, high=10, size=10)\n",
    "ytrain = generate_samples(xtrain)"
   ]
  },
  {
   "cell_type": "code",
   "execution_count": 4,
   "metadata": {},
   "outputs": [
    {
     "data": {
      "text/plain": [
       "<matplotlib.collections.PathCollection at 0x7f0631c22eb8>"
      ]
     },
     "execution_count": 4,
     "metadata": {},
     "output_type": "execute_result"
    },
    {
     "data": {
      "image/png": "[encoded data removed]",
      "text/plain": [
       "<Figure size 432x288 with 1 Axes>"
      ]
     },
     "metadata": {
      "needs_background": "light"
     },
     "output_type": "display_data"
    }
   ],
   "source": [
    "plt.scatter(xtrain,ytrain)"
   ]
  },
  {
   "cell_type": "code",
   "execution_count": 5,
   "metadata": {},
   "outputs": [],
   "source": [
    "def plot_fit(degree, xtest=None, ytest=None):\n",
    "    p = np.polyfit(xtrain,ytrain,degree)\n",
    "    xfit = np.linspace(0, 10, 1000)\n",
    "    yfit = np.polyval(p, xfit)\n",
    "    plt.plot(xfit, yfit)\n",
    "    plt.scatter(xtrain,ytrain, label='training')\n",
    "    if xtest is not None and ytest is not None:\n",
    "        plt.scatter(xtest, ytest, c='maroon', label='testing')\n",
    "    plt.legend(loc='upper left')"
   ]
  },
  {
   "cell_type": "code",
   "execution_count": 6,
   "metadata": {},
   "outputs": [],
   "source": [
    "from ipywidgets import interact, widgets"
   ]
  },
  {
   "cell_type": "code",
   "execution_count": 7,
   "metadata": {},
   "outputs": [
    {
     "data": {
      "application/vnd.jupyter.widget-view+json": {
       "model_id": "ae695174958e4c2c979361eee139b186",
       "version_major": 2,
       "version_minor": 0
      },
      "text/plain": [
       "interactive(children=(IntSlider(value=1, description='degree', max=10, min=1), Output()), _dom_classes=('widge…"
      ]
     },
     "metadata": {},
     "output_type": "display_data"
    },
    {
     "data": {
      "text/plain": [
       "<function __main__.<lambda>(degree)>"
      ]
     },
     "execution_count": 7,
     "metadata": {},
     "output_type": "execute_result"
    }
   ],
   "source": [
    "interact(lambda degree: plot_fit(degree), degree=widgets.IntSlider(min=1,max=10,step=1,value=1))"
   ]
  },
  {
   "cell_type": "code",
   "execution_count": 8,
   "metadata": {},
   "outputs": [
    {
     "data": {
      "application/vnd.jupyter.widget-view+json": {
       "model_id": "484d158b3ea849d4a5ffb200b2d0bc85",
       "version_major": 2,
       "version_minor": 0
      },
      "text/plain": [
       "interactive(children=(IntSlider(value=1, description='degree', max=10, min=1), Output()), _dom_classes=('widge…"
      ]
     },
     "metadata": {},
     "output_type": "display_data"
    },
    {
     "data": {
      "text/plain": [
       "<function __main__.<lambda>(degree)>"
      ]
     },
     "execution_count": 8,
     "metadata": {},
     "output_type": "execute_result"
    }
   ],
   "source": [
    "xtest = np.random.uniform(low=0, high=10, size=10)\n",
    "ytest = generate_samples(xtest)\n",
    "interact(lambda degree: plot_fit(degree, xtest, ytest), degree=widgets.IntSlider(min=1,max=10,step=1,value=1))"
   ]
  },
  {
   "cell_type": "markdown",
   "metadata": {},
   "source": [
    "# Motivation: classification"
   ]
  },
  {
   "cell_type": "code",
   "execution_count": 9,
   "metadata": {},
   "outputs": [],
   "source": [
    "from scipy.spatial import KDTree\n",
    "from scipy.stats import multivariate_normal"
   ]
  },
  {
   "cell_type": "code",
   "execution_count": 10,
   "metadata": {},
   "outputs": [
    {
     "data": {
      "text/plain": [
       "<matplotlib.collections.PathCollection at 0x7f062ff5da20>"
      ]
     },
     "execution_count": 10,
     "metadata": {},
     "output_type": "execute_result"
    },
    {
     "data": {
      "image/png": "[encoded data removed]",
      "text/plain": [
       "<Figure size 432x288 with 1 Axes>"
      ]
     },
     "metadata": {
      "needs_background": "light"
     },
     "output_type": "display_data"
    }
   ],
   "source": [
    "def generate_blob(mean, scale=1, size=10):\n",
    "    data = multivariate_normal.rvs(mean, cov=scale, size=size)\n",
    "    x = data[:,0]\n",
    "    y = data[:,1]\n",
    "    return x,y\n",
    "\n",
    "x1, y1 = generate_blob([0,0], scale=1, size=50)\n",
    "x2, y2 = generate_blob([3,3], scale=1, size=50)\n",
    "x3, y3 = generate_blob([0,3], scale=1, size=50)\n",
    "plt.scatter(x1, y1, c='blue')\n",
    "plt.scatter(x2, y2, c='maroon')\n",
    "plt.scatter(x3, y3, c='green')"
   ]
  },
  {
   "cell_type": "code",
   "execution_count": 11,
   "metadata": {},
   "outputs": [],
   "source": [
    "class NearestNeighborClassifier:\n",
    "    def fit(self, blobs):\n",
    "        self._trees = []\n",
    "        for blob in blobs:\n",
    "            self._trees.append(KDTree(np.array(blob).T))\n",
    "    def predict(self, data):\n",
    "        classification = np.zeros(len(data))\n",
    "        for i,d in enumerate(data):\n",
    "            distances = [tree.query(d)[0] for tree in self._trees]\n",
    "            classification[i] = np.argmin(distances)\n",
    "        return classification\n"
   ]
  },
  {
   "cell_type": "code",
   "execution_count": 12,
   "metadata": {},
   "outputs": [],
   "source": [
    "classifier = NearestNeighborClassifier()\n",
    "classifier.fit([[x1,y1], [x2,y2], [x3,y3]])"
   ]
  },
  {
   "cell_type": "code",
   "execution_count": 13,
   "metadata": {},
   "outputs": [
    {
     "data": {
      "text/plain": [
       "array([ 0.,  1.,  2.])"
      ]
     },
     "execution_count": 13,
     "metadata": {},
     "output_type": "execute_result"
    }
   ],
   "source": [
    "classifier.predict(np.array([[0,0], [3,3], [0,3]]))"
   ]
  },
  {
   "cell_type": "code",
   "execution_count": 15,
   "metadata": {},
   "outputs": [
    {
     "data": {
      "image/png": "[encoded data removed]",
      "text/plain": [
       "<Figure size 432x288 with 1 Axes>"
      ]
     },
     "metadata": {
      "needs_background": "light"
     },
     "output_type": "display_data"
    }
   ],
   "source": [
    "from matplotlib.colors import ListedColormap\n",
    "\n",
    "def plot_nn():\n",
    "    cmap = ListedColormap([  '#AAAAFF','#FFAAAA','#AAFFAA'])\n",
    "\n",
    "    x_min, x_max = -4, 7\n",
    "    y_min, y_max = -4, 7\n",
    "    xx, yy = np.meshgrid(np.linspace(x_min, x_max, 100),\n",
    "                         np.linspace(y_min, y_max, 100))\n",
    "    Z = classifier.predict(np.c_[xx.ravel(), yy.ravel()])\n",
    "\n",
    "    # Put the result into a color plot\n",
    "    Z = Z.reshape(xx.shape)\n",
    "    plt.figure()\n",
    "    plt.pcolormesh(xx, yy, Z, cmap=cmap)\n",
    "\n",
    "    # Plot also the training points\n",
    "    plt.scatter(x1, y1, c='blue')\n",
    "    plt.scatter(x2, y2, c='maroon')\n",
    "    plt.scatter(x3, y3, c='green')\n",
    "    plt.axis('tight')\n",
    "plot_nn()"
   ]
  }
 ],
 "metadata": {
  "kernelspec": {
   "display_name": "Python 3",
   "language": "python",
   "name": "python3"
  },
  "language_info": {
   "codemirror_mode": {
    "name": "ipython",
    "version": 3
   },
   "file_extension": ".py",
   "mimetype": "text/x-python",
   "name": "python",
   "nbconvert_exporter": "python",
   "pygments_lexer": "ipython3",
   "version": "3.6.6"
  }
 },
 "nbformat": 4,
 "nbformat_minor": 2
}
