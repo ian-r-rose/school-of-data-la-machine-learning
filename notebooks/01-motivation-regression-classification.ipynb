{
 "cells": [
  {
   "cell_type": "markdown",
   "metadata": {},
   "source": [
    "# Motivation"
   ]
  },
  {
   "cell_type": "markdown",
   "metadata": {},
   "source": [
    "Here we will take a look at two relatively simple, low-dimensional datasets for which we want to construct models to better understand them.\n",
    "\n",
    "The first is a case where we want to understand and predict a *quantity* from some data (regression),\n",
    "the second is where we want to understand and predict a *category* from some data (classification)."
   ]
  },
  {
   "cell_type": "markdown",
   "metadata": {},
   "source": [
    "## Simple machine learning: regression"
   ]
  },
  {
   "cell_type": "markdown",
   "metadata": {},
   "source": [
    "We begin by importing some python libraries that we will be using:"
   ]
  },
  {
   "cell_type": "code",
   "execution_count": 1,
   "metadata": {},
   "outputs": [],
   "source": [
    "%matplotlib inline\n",
    "import numpy as np\n",
    "import matplotlib\n",
    "import matplotlib.pyplot as plt\n",
    "matplotlib.style.use('seaborn')\n",
    "\n",
    "import warnings\n",
    "warnings.filterwarnings(\"ignore\")"
   ]
  },
  {
   "cell_type": "markdown",
   "metadata": {},
   "source": [
    "Imagine we have a noisy quadratic dataset. We can construct such data synthetically by the following function, which takes some inputs and returns a line with some normally distributed error:"
   ]
  },
  {
   "cell_type": "code",
   "execution_count": 2,
   "metadata": {},
   "outputs": [],
   "source": [
    "def generate_samples(x):\n",
    "    return x*x + np.random.normal(0.0, 4, size=len(x))"
   ]
  },
  {
   "cell_type": "markdown",
   "metadata": {},
   "source": [
    "We can then use this to generate our points. This will be the data to which we fit our machine learning model (i.e., the training data):"
   ]
  },
  {
   "cell_type": "code",
   "execution_count": 3,
   "metadata": {},
   "outputs": [],
   "source": [
    "xtrain = np.random.uniform(low=0, high=10, size=10)\n",
    "ytrain = generate_samples(xtrain)"
   ]
  },
  {
   "cell_type": "code",
   "execution_count": 4,
   "metadata": {},
   "outputs": [
    {
     "data": {
      "text/plain": [
       "<matplotlib.collections.PathCollection at 0x7f116c7dde10>"
      ]
     },
     "execution_count": 4,
     "metadata": {},
     "output_type": "execute_result"
    },
    {
     "data": {
      "image/png": "[encoded data removed]",
      "text/plain": [
       "<Figure size 432x288 with 1 Axes>"
      ]
     },
     "metadata": {
      "needs_background": "light"
     },
     "output_type": "display_data"
    }
   ],
   "source": [
    "plt.scatter(xtrain,ytrain)"
   ]
  },
  {
   "cell_type": "markdown",
   "metadata": {},
   "source": [
    "A simple model for fitting 1D data is to fit a n-degree polynomial through that data.\n",
    "Such a polynomial has the form\n",
    "$$\n",
    "f(x) = a_0 + a_1 x^1 + a_2 x^2 ... + a_n x^n\n",
    "$$\n",
    "The task at hand is to find the $a_i$ such that the resulting curve minimizes the distance to the training data.\n",
    "Fortunately, numpy has a function `polyfit` to do just that.\n",
    "\n",
    "The following function fits the data to a polynomial of degree `degree`\n",
    "and plots the resulting curve:"
   ]
  },
  {
   "cell_type": "code",
   "execution_count": 5,
   "metadata": {},
   "outputs": [],
   "source": [
    "def plot_fit(degree, xtest=None, ytest=None):\n",
    "    p = np.polyfit(xtrain,ytrain,degree)\n",
    "    xfit = np.linspace(0, 10, 1000)\n",
    "    yfit = np.polyval(p, xfit)\n",
    "    plt.plot(xfit, yfit)\n",
    "    plt.scatter(xtrain, ytrain, label='training')\n",
    "    if xtest is not None and ytest is not None:\n",
    "        plt.scatter(xtest, ytest, c='maroon', label='testing')\n",
    "    plt.xlim(0,10)\n",
    "    plt.ylim(-20, 150)\n",
    "    plt.legend(loc='upper left')"
   ]
  },
  {
   "cell_type": "markdown",
   "metadata": {},
   "source": [
    "We can make this interactive by using `ipywidgets`:"
   ]
  },
  {
   "cell_type": "code",
   "execution_count": 6,
   "metadata": {},
   "outputs": [
    {
     "data": {
      "application/vnd.jupyter.widget-view+json": {
       "model_id": "a791179fbd2741ee998d1dbcc46d0e24",
       "version_major": 2,
       "version_minor": 0
      },
      "text/plain": [
       "interactive(children=(IntSlider(value=1, description='degree', max=10, min=1), Output()), _dom_classes=('widge…"
      ]
     },
     "metadata": {},
     "output_type": "display_data"
    },
    {
     "data": {
      "text/plain": [
       "<function __main__.<lambda>(degree)>"
      ]
     },
     "execution_count": 6,
     "metadata": {},
     "output_type": "execute_result"
    }
   ],
   "source": [
    "from ipywidgets import interact, widgets\n",
    "interact(lambda degree: plot_fit(degree), degree=widgets.IntSlider(min=1,max=10,step=1,value=1))"
   ]
  },
  {
   "cell_type": "markdown",
   "metadata": {},
   "source": [
    "Play with the polynomial degree to see how well different degrees fit the data.\n",
    "We can see that as we increase the degree of the model, we obtain a better and better fit.\n",
    "At degree 10, the model goes through *all* the points.\n",
    "So does that mean that the degree 10 model is the best model?\n",
    "\n",
    "Probably not: let's see what happens if we test the model on some data that was *not* used to train it.\n",
    "This process is known as validation.\n",
    "First, we generate the validation (or test) data, then\n",
    "we replot the fit."
   ]
  },
  {
   "cell_type": "code",
   "execution_count": 7,
   "metadata": {},
   "outputs": [
    {
     "data": {
      "application/vnd.jupyter.widget-view+json": {
       "model_id": "a99038de3b9d49328338b9e47456fd6c",
       "version_major": 2,
       "version_minor": 0
      },
      "text/plain": [
       "interactive(children=(IntSlider(value=1, description='degree', max=10, min=1), Output()), _dom_classes=('widge…"
      ]
     },
     "metadata": {},
     "output_type": "display_data"
    },
    {
     "data": {
      "text/plain": [
       "<function __main__.<lambda>(degree)>"
      ]
     },
     "execution_count": 7,
     "metadata": {},
     "output_type": "execute_result"
    }
   ],
   "source": [
    "xtest = np.random.uniform(low=0, high=10, size=10)\n",
    "ytest = generate_samples(xtest)\n",
    "interact(lambda degree: plot_fit(degree, xtest, ytest), degree=widgets.IntSlider(min=1,max=10,step=1,value=1))"
   ]
  },
  {
   "cell_type": "markdown",
   "metadata": {},
   "source": [
    "We can see that at low degrees the fit remains fairly close to the test data.\n",
    "But at higher degrees, when the curve starts to oscillate wildly,\n",
    "the fit for the validation data does *very badly*, even though it is nailing the test data!"
   ]
  },
  {
   "cell_type": "markdown",
   "metadata": {},
   "source": [
    "# Motivation: classification"
   ]
  },
  {
   "cell_type": "markdown",
   "metadata": {},
   "source": [
    "Above we wanted our model to predict a *quantity* from the data.\n",
    "There are also many cases where we will want to predict a *class* or *type* from the data.\n",
    "This is known as a classification problem."
   ]
  },
  {
   "cell_type": "markdown",
   "metadata": {},
   "source": [
    "As before, we make a few relevant imports:"
   ]
  },
  {
   "cell_type": "code",
   "execution_count": 8,
   "metadata": {},
   "outputs": [],
   "source": [
    "from scipy.spatial import KDTree\n",
    "from scipy.stats import multivariate_normal"
   ]
  },
  {
   "cell_type": "markdown",
   "metadata": {},
   "source": [
    "Again, we will generate some synthetic data.\n",
    "The following function generates blobs of points in 2D space\n",
    "with normal distributions:"
   ]
  },
  {
   "cell_type": "code",
   "execution_count": 9,
   "metadata": {},
   "outputs": [],
   "source": [
    "def generate_blob(mean, scale=1, size=10):\n",
    "    data = multivariate_normal.rvs(mean, cov=scale, size=size)\n",
    "    x = data[:,0]\n",
    "    y = data[:,1]\n",
    "    return x,y"
   ]
  },
  {
   "cell_type": "markdown",
   "metadata": {},
   "source": [
    "We can use this to generate three blobs with different centers:"
   ]
  },
  {
   "cell_type": "code",
   "execution_count": 10,
   "metadata": {},
   "outputs": [
    {
     "data": {
      "text/plain": [
       "<matplotlib.collections.PathCollection at 0x7f115b0d15f8>"
      ]
     },
     "execution_count": 10,
     "metadata": {},
     "output_type": "execute_result"
    },
    {
     "data": {
      "image/png": "[encoded data removed]",
      "text/plain": [
       "<Figure size 432x288 with 1 Axes>"
      ]
     },
     "metadata": {
      "needs_background": "light"
     },
     "output_type": "display_data"
    }
   ],
   "source": [
    "x1, y1 = generate_blob([0,0], scale=1, size=50)\n",
    "x2, y2 = generate_blob([3,3], scale=1, size=50)\n",
    "x3, y3 = generate_blob([0,3], scale=1, size=50)\n",
    "plt.scatter(x1, y1, c='blue')\n",
    "plt.scatter(x2, y2, c='maroon')\n",
    "plt.scatter(x3, y3, c='green')"
   ]
  },
  {
   "cell_type": "markdown",
   "metadata": {},
   "source": [
    "Given some new data, can we predict which of the blobs it might be drawn from?\n",
    "Among the simplest approaches to this question is to use a nearest neighbor classifier.\n",
    "We go through the training data and find the point to which a new datum is the closest.\n",
    "The new datum is then assigned to the class of that neighbor.\n",
    "\n",
    "The following python class has two functions, `fit`, and `predict`.\n",
    "The first fits the model on the training blobs,\n",
    "and the second classifies new data according to the nearest neighbor criterion:"
   ]
  },
  {
   "cell_type": "code",
   "execution_count": 11,
   "metadata": {},
   "outputs": [],
   "source": [
    "class NearestNeighborClassifier:\n",
    "    \n",
    "    def fit(self, blobs):\n",
    "        self._trees = []\n",
    "        for blob in blobs:\n",
    "            self._trees.append(KDTree(np.array(blob).T))\n",
    "            \n",
    "    def predict(self, data):\n",
    "        classification = np.zeros(len(data))\n",
    "        for i,d in enumerate(data):\n",
    "            distances = [tree.query(d)[0] for tree in self._trees]\n",
    "            classification[i] = np.argmin(distances)\n",
    "        return classification"
   ]
  },
  {
   "cell_type": "markdown",
   "metadata": {},
   "source": [
    "We can now use the classifier on our training data:"
   ]
  },
  {
   "cell_type": "code",
   "execution_count": 12,
   "metadata": {},
   "outputs": [],
   "source": [
    "classifier = NearestNeighborClassifier()\n",
    "classifier.fit([[x1,y1], [x2,y2], [x3,y3]])"
   ]
  },
  {
   "cell_type": "markdown",
   "metadata": {},
   "source": [
    "With the model now fit to the training data, we can iterate over a 2D domain\n",
    "and determine to which class each point is assigned:"
   ]
  },
  {
   "cell_type": "code",
   "execution_count": 13,
   "metadata": {},
   "outputs": [
    {
     "data": {
      "image/png": "[encoded data removed]",
      "text/plain": [
       "<Figure size 432x288 with 1 Axes>"
      ]
     },
     "metadata": {
      "needs_background": "light"
     },
     "output_type": "display_data"
    }
   ],
   "source": [
    "from matplotlib.colors import ListedColormap\n",
    "\n",
    "def plot_nn():\n",
    "    cmap = ListedColormap([  '#AAAAFF','#FFAAAA','#AAFFAA'])\n",
    "\n",
    "    x_min, x_max = -4, 7\n",
    "    y_min, y_max = -4, 7\n",
    "    xx, yy = np.meshgrid(np.linspace(x_min, x_max, 100),\n",
    "                         np.linspace(y_min, y_max, 100))\n",
    "    Z = classifier.predict(np.c_[xx.ravel(), yy.ravel()])\n",
    "\n",
    "    # Put the result into a color plot\n",
    "    Z = Z.reshape(xx.shape)\n",
    "    plt.figure()\n",
    "    plt.pcolormesh(xx, yy, Z, cmap=cmap)\n",
    "\n",
    "    # Plot also the training points\n",
    "    plt.scatter(x1, y1, c='blue')\n",
    "    plt.scatter(x2, y2, c='maroon')\n",
    "    plt.scatter(x3, y3, c='green')\n",
    "    plt.axis('tight')\n",
    "plot_nn()"
   ]
  },
  {
   "cell_type": "markdown",
   "metadata": {},
   "source": [
    "You can see that the broad strokes of the model do a pretty good job in assigning points to the right cluster,\n",
    "but there are some causes for concern.\n",
    "The boundaries between the regions are fairly jagged,\n",
    "and there are some islands that don't reflect the underlying \"physics\".\n",
    "\n",
    "These are some general problems with such a simple classifier:\n",
    "the problem is overfit."
   ]
  },
  {
   "cell_type": "markdown",
   "metadata": {},
   "source": [
    "## Moving forward"
   ]
  },
  {
   "cell_type": "markdown",
   "metadata": {},
   "source": [
    "These two motivating problems showed some relatively simple machine learning models,\n",
    "but they also showed some limitations of the models.\n",
    "A naive model can easily overfit or underfit the data,\n",
    "or can be from a class of models that is not suited to the underlying dataset.\n",
    "\n",
    "We would like to bring some more robust tools to bear on such problems,\n",
    "including the ability to test many model classes,\n",
    "conduct cross-validation, and score models according to their performance.\n",
    "The de facto standard library for python machine learning, scikit-learn,\n",
    "provides these and much more."
   ]
  }
 ],
 "metadata": {
  "kernelspec": {
   "display_name": "Python 3",
   "language": "python",
   "name": "python3"
  },
  "language_info": {
   "codemirror_mode": {
    "name": "ipython",
    "version": 3
   },
   "file_extension": ".py",
   "mimetype": "text/x-python",
   "name": "python",
   "nbconvert_exporter": "python",
   "pygments_lexer": "ipython3",
   "version": "3.6.6"
  }
 },
 "nbformat": 4,
 "nbformat_minor": 2
}
